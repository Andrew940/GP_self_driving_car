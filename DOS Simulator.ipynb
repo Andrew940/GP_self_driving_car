{
 "cells": [
  {
   "cell_type": "markdown",
   "metadata": {},
   "source": [
    "# Robo-Geek GP Project\n",
    "\n",
    "<img src =\"Report images\\RGlogo.JPG\" alt=\"logo\" style=\"width:100px;\"/>\n"
   ]
  },
  {
   "cell_type": "markdown",
   "metadata": {},
   "source": [
    "## About Simulator\n",
    "\n",
    "The simulator used in this project is DOS version of Accolade Grand Prix Circuit released in 1987.\n",
    "\n",
    "Under DOS emulators like DOS Box, the game can be played in an ideal resolution to implement supervised training with a neural network. Moreover supervised learning can be used by reading the cockpit gauges and the position in the map. Also this simulator offers traffic conditions and a reward when achieving first place.\n",
    "\n",
    "\n",
    "<img src =\"Report images\\cockpit_panel.JPG\" alt=\"logo\" style=\"width:500px;\"/>\n",
    "\n",
    "\n",
    "An online version is available at:\n",
    "\n",
    "https://classicreload.com/grand-prix-circuit.html\n",
    "\n",
    "\n",
    "<img src =\"Report images\\online_game.JPG\" />\n",
    "\n",
    "For more information on the game:\n",
    "\n",
    "https://en.wikipedia.org/wiki/Grand_Prix_Circuit_(video_game)\n"
   ]
  },
  {
   "cell_type": "code",
   "execution_count": null,
   "metadata": {},
   "outputs": [],
   "source": []
  }
 ],
 "metadata": {
  "kernelspec": {
   "display_name": "Python 3",
   "language": "python",
   "name": "python3"
  },
  "language_info": {
   "codemirror_mode": {
    "name": "ipython",
    "version": 3
   },
   "file_extension": ".py",
   "mimetype": "text/x-python",
   "name": "python",
   "nbconvert_exporter": "python",
   "pygments_lexer": "ipython3",
   "version": "3.5.2"
  },
  "widgets": {
   "state": {},
   "version": "1.1.2"
  }
 },
 "nbformat": 4,
 "nbformat_minor": 2
}
