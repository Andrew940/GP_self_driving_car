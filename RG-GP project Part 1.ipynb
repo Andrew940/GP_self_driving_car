{
 "cells": [
  {
   "cell_type": "markdown",
   "metadata": {},
   "source": [
    "# Robo-Geek GP Project Part 1\n",
    "\n",
    "\n",
    "![alt text](https://github.com/robogeekcanada/GP_self_driving_car/blob/master/Report%20images/RGlogo.jpg?raw=true \\\"Logo Title Text 1\\\")"
   ]
  },
  {
   "cell_type": "markdown",
   "metadata": {},
   "source": [
    "## Project Objective\n",
    "\n",
    "In Part 1 the objective is to grab the inputs from the screen as images. The input images will be then converted to data that will be stored in a csv file. Theses inputs will be used to train neural network.\n",
    "\n",
    "![alt text](https://github.com/robogeekcanada/GP_self_driving_car/blob/master/Report%20images/cockpit_panel1.JPG?raw=true \\\"Logo Title Text 1\\\")\n",
    "\n",
    "\n",
    "![alt text](https://github.com/robogeekcanada/GP_self_driving_car/blob/master/Report%20images/cockpit_panel2.JPG?raw=true \\\"Logo Title Text 1\\\") \n"
   ]
  },
  {
   "cell_type": "markdown",
   "metadata": {},
   "source": [
    "Once the image is captured, we need a strategy to convert the image into useful input. The table below shows potential strategy to make these conversions. As we see the impact to the processing speed (FPS), we may change these strategies. Also different members of the project can work on optimizing each function. \n",
    "\n",
    "![alt text](https://github.com/robogeekcanada/GP_self_driving_car/blob/master/Report%20images/strategy_table.JPG?raw=true \\\"Logo Title Text 1\\\")\n"
   ]
  },
  {
   "cell_type": "markdown",
   "metadata": {},
   "source": [
    "### Acknowledgment:\n",
    "\n",
    "The grabscreen function was developed by Sentdex, please refer to the github repository for more details:\n",
    "\n",
    "https://github.com/Sentdex/pygta5\n",
    "\n",
    "Robo-Geek is always grateful to work with the open-source community. This project will be posted in our repository as well.\n",
    "\n",
    "Standard OpenCV libraries"
   ]
  },
  {
   "cell_type": "code",
   "execution_count": null,
   "metadata": {
    "collapsed": true
   },
   "outputs": [],
   "source": [
    "import numpy as np\n",
    "import cv2\n",
    "import time\n",
    "from grabscreen import grab_screen"
   ]
  },
  {
   "cell_type": "markdown",
   "metadata": {},
   "source": [
    "With a bit of math, we can use the following grid to calculate the position of all the desired controls. Each function was created for a specific ROI (region of interest).\n",
    "\n",
    "![alt text](https://github.com/robogeekcanada/GP_self_driving_car/blob/master/Report%20images/cockpit_grid.JPG?raw=true \\\"Logo Title Text 1\\\")"
   ]
  },
  {
   "cell_type": "code",
   "execution_count": null,
   "metadata": {
    "collapsed": true
   },
   "outputs": [],
   "source": [
    "def capture_full_screen():\n",
    "\n",
    "    captured_screen = grab_screen(region=(0,27,640,425))\n",
    "    rgb_full_screen = cv2.cvtColor(captured_screen, cv2.COLOR_BGR2RGB)\n",
    "    return rgb_full_screen\n",
    "\n",
    "#drivingwindow\n",
    "def capture_drivingwindow():\n",
    "\n",
    "    captured_screen = grab_screen(region=(0,140,640,245))\n",
    "    rgb_drivingwindow = cv2.cvtColor(captured_screen, cv2.COLOR_BGR2RGB)\n",
    "    return rgb_drivingwindow\n",
    "\n",
    "\n",
    "#race map\n",
    "def capture_map():\n",
    "\n",
    "    captured_screen = grab_screen(region=(0,27,170,100))\n",
    "    rgb_map = cv2.cvtColor(captured_screen, cv2.COLOR_BGR2RGB)\n",
    "    return rgb_map\n",
    "\n",
    "#scoreboard\n",
    "def capture_scoreboard():\n",
    "\n",
    "    captured_screen = grab_screen(region=(490,31,630,88))\n",
    "    rgb_scoreboard = cv2.cvtColor(captured_screen, cv2.COLOR_BGR2RGB)\n",
    "    return rgb_scoreboard\n",
    "\n",
    "#speedometer\n",
    "def capture_speedometer():\n",
    "\n",
    "    captured_screen = grab_screen(region=(205,250,255,275))\n",
    "    rgb_speedometer = cv2.cvtColor(captured_screen, cv2.COLOR_BGR2RGB)\n",
    "    return rgb_speedometer\n",
    "\n",
    "#health meter\n",
    "def capture_healthmeter():\n",
    "\n",
    "    captured_screen = grab_screen(region=(268,250,435,270))\n",
    "    rgb_healthmeter = cv2.cvtColor(captured_screen, cv2.COLOR_BGR2RGB)\n",
    "    return rgb_healthmeter\n",
    "\n",
    "#RPM gauge\n",
    "def capture_RPMgauge():\n",
    "\n",
    "    captured_screen = grab_screen(region=(255,295,385,395))\n",
    "    rgb_RPMgauge = cv2.cvtColor(captured_screen, cv2.COLOR_BGR2RGB)\n",
    "    return rgb_RPMgauge\n",
    "\n",
    "#Steering wheel\n",
    "def capture_steeringwheel():\n",
    "\n",
    "    captured_screen = grab_screen(region=(180,270,460,420))\n",
    "    rgb_steeringwheel = cv2.cvtColor(captured_screen, cv2.COLOR_BGR2RGB)\n",
    "    return rgb_steeringwheel\n",
    "\n",
    "#Gear box to shift gears\n",
    "def capture_gears():\n",
    "\n",
    "    captured_screen = grab_screen(region=(525,325,610,410))\n",
    "    rgb_gears = cv2.cvtColor(captured_screen, cv2.COLOR_BGR2RGB)\n",
    "    return rgb_gears\n",
    "\n",
    "#Left rearview mirror\n",
    "def capture_leftRvm():\n",
    "\n",
    "    captured_screen = grab_screen(region=(0,250,130,300))\n",
    "    rgb_leftRvm = cv2.cvtColor(captured_screen, cv2.COLOR_BGR2RGB)\n",
    "    return rgb_leftRvm\n",
    "\n",
    "\n",
    "#Right rearview mirror\n",
    "def capture_rightRvm():\n",
    "\n",
    "    captured_screen = grab_screen(region=(510,250,(510+130),300))\n",
    "    rgb_rightRvm = cv2.cvtColor(captured_screen, cv2.COLOR_BGR2RGB)\n",
    "    return rgb_rightRvm\n",
    "\n",
    "\n"
   ]
  },
  {
   "cell_type": "markdown",
   "metadata": {},
   "source": [
    "Finally a simple continuous loop to read the images and show them to verify the ROI are captured properly. It's important to note that this programs reads the input from the top left corner of the screen assuming the DOS simulator running GP game is on.\n",
    "\n",
    "More information about running the simulator can be found in the introduction of the project. Simply uncomment the function that needs to be tested."
   ]
  },
  {
   "cell_type": "code",
   "execution_count": null,
   "metadata": {
    "collapsed": true
   },
   "outputs": [],
   "source": [
    "def test_capture_functions():\n",
    "\n",
    "    while True:\n",
    "\n",
    "        #Capture game window and convert from BGR to RGB\n",
    "        full_screen = capture_full_screen()\n",
    "        drivingwindow = capture_drivingwindow()\n",
    "        map_image = capture_map()\n",
    "        scoreboard = capture_scoreboard()\n",
    "        speedometer = capture_speedometer()\n",
    "        healthmeter = capture_healthmeter()\n",
    "        RPMgauge = capture_RPMgauge()\n",
    "        steeringwheel = capture_steeringwheel()\n",
    "        gears = capture_gears()\n",
    "        leftRvm = capture_leftRvm()\n",
    "        rightRvm = capture_rightRvm()\n",
    "\n",
    "       \n",
    "        #cv2.imshow('full screen',full_screen)\n",
    "        cv2.imshow('driving window',drivingwindow)\n",
    "        #cv2.imshow('map',map_image)\n",
    "        #cv2.imshow('scoreboard',scoreboard)\n",
    "        #cv2.imshow('speedometer',speedometer)\n",
    "        #cv2.imshow('healthmeter',healthmeter)\n",
    "        #cv2.imshow('RPMgauge',RPMgauge)\n",
    "        cv2.imshow('steering wheel',steeringwheel)\n",
    "        #cv2.imshow('gears',gears)\n",
    "        #cv2.imshow('leftRvm',leftRvm)\n",
    "        #cv2.imshow('rightRvm',rightRvm)\n",
    "\n",
    "\n",
    "        if cv2.waitKey(25) & 0xFF == ord('q'):\n",
    "            cv2.destroyAllWindows()\n",
    "            break\n",
    "       \n",
    "\n",
    "test_capture_functions()"
   ]
  },
  {
   "cell_type": "code",
   "execution_count": null,
   "metadata": {
    "collapsed": true
   },
   "outputs": [],
   "source": []
  }
 ],
 "metadata": {
  "kernelspec": {
   "display_name": "Python 3",
   "language": "python",
   "name": "python3"
  },
  "language_info": {
   "codemirror_mode": {
    "name": "ipython",
    "version": 3
   },
   "file_extension": ".py",
   "mimetype": "text/x-python",
   "name": "python",
   "nbconvert_exporter": "python",
   "pygments_lexer": "ipython3",
   "version": "3.6.3"
  },
  "widgets": {
   "state": {},
   "version": "1.1.2"
  }
 },
 "nbformat": 4,
 "nbformat_minor": 2
}
